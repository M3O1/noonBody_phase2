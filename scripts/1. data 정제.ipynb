{
 "cells": [
  {
   "cell_type": "code",
   "execution_count": null,
   "metadata": {},
   "outputs": [],
   "source": [
    "%matplotlib inline\n",
    "import time\n",
    "import glob\n",
    "import os\n",
    "import cv2\n",
    "import numpy as np\n",
    "import pandas as pd\n",
    "import h5py\n",
    "\n",
    "import matplotlib.pyplot as plt"
   ]
  },
  {
   "cell_type": "code",
   "execution_count": null,
   "metadata": {},
   "outputs": [],
   "source": [
    "# 데이터 학습시킬 때에는 256 x 256 사이즈를 이용할 것임\n",
    "# 하지만 resize나 rotating할 때를 대비하여, padding을 추가하여\n",
    "# 데이터셋을 구성할 예정\n",
    "input_size = (384, 384) # 256 x 256 이미지에 0.5배의 padding을 추가시킴\n",
    "\n",
    "image_dir = \"../data/images\"\n",
    "profile_dir = \"../data/profiles\"\n",
    "h5_path = \"../data/baidu_segmentation.h5\" # dataset을 hdf5 포맷으로 변경하여 저장\n",
    "df = pd.read_csv(\"../data/person_count.csv\") # 이미지에 몇 명의 사람 수가 있는지에 대한 자료"
   ]
  },
  {
   "cell_type": "code",
   "execution_count": null,
   "metadata": {
    "collapsed": true
   },
   "outputs": [],
   "source": [
    "# 데이터셋은 영상에 한명만 있는 경우만 포함함\n",
    "filename_series = df[df.num_person == 1].filename\n",
    "# image를 담을 데이터 셋\n",
    "# dataset-shape : the number of data, height, width, channel\n",
    "dataset = np.zeros((len(filename_series), *input_size, 4),dtype=np.uint8) \n",
    "\n",
    "start_time = time.time()\n",
    "for idx, filename in enumerate(filename_series):\n",
    "    # image와 profile 가져오기\n",
    "    image_path = os.path.join(image_dir,filename)\n",
    "    profile_path = os.path.join(profile_dir,filename)\n",
    "    img = cv2.imread(image_path)\n",
    "    img = cv2.cvtColor(img, cv2.COLOR_BGR2RGB)\n",
    "    profile = cv2.imread(profile_path, 0)\n",
    "    # profile을 Color channel 중 4번째에 추가\n",
    "    img_and_profile = np.concatenate([img,np.expand_dims(profile,axis=-1)],axis=2)\n",
    "    # Padding을 추가시켜 정방행렬화\n",
    "    h, w, _ = img_and_profile.shape\n",
    "    if h - w > 0:\n",
    "        diff = h - w\n",
    "        pad1, pad2 = diff // 2 , diff - diff//2\n",
    "        pad_input = np.pad(img_and_profile,((0,0),(pad1,pad2),(0,0)),'constant',constant_values=255)\n",
    "    elif h - w < 0:\n",
    "        diff = w - h\n",
    "        pad1, pad2 = diff // 2 , diff - diff//2    \n",
    "        pad_input = np.pad(img_and_profile,((pad1,pad2),(0,0),(0,0)),'constant',constant_values=255)\n",
    "    else:\n",
    "        pad_input = img_and_profile\n",
    "    # Resize함\n",
    "    resized = cv2.resize(pad_input, input_size)\n",
    "    # dataset에 담음\n",
    "    dataset[idx] = resized\n",
    "    if idx % 100 == 0:\n",
    "        print(idx,\"th completed --- time : {}\".format(time.time()-start_time))\n",
    "\n",
    "# dataset 저장하기\n",
    "with h5py.File(h5_path) as file:\n",
    "    file.create_dataset(\"{}x{}\".format(*input_size),\n",
    "                        data=dataset,dtype=np.uint8)\n",
    "print(\"save dataset in {}\".format(h5_path))"
   ]
  }
 ],
 "metadata": {
  "kernelspec": {
   "display_name": "Python 3",
   "language": "python",
   "name": "python3"
  },
  "language_info": {
   "codemirror_mode": {
    "name": "ipython",
    "version": 3
   },
   "file_extension": ".py",
   "mimetype": "text/x-python",
   "name": "python",
   "nbconvert_exporter": "python",
   "pygments_lexer": "ipython3",
   "version": "3.6.3"
  }
 },
 "nbformat": 4,
 "nbformat_minor": 2
}
