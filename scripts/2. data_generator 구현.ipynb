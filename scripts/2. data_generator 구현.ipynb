{
 "cells": [
  {
   "cell_type": "code",
   "execution_count": null,
   "metadata": {},
   "outputs": [],
   "source": [
    "import h5py\n",
    "import random\n",
    "import numpy as np\n",
    "import cv2\n",
    "\n",
    "from skimage.transform import rescale, rotate\n",
    "from skimage.util import random_noise"
   ]
  },
  {
   "cell_type": "code",
   "execution_count": null,
   "metadata": {
    "collapsed": true
   },
   "outputs": [],
   "source": [
    "__all__ = ['HumanSegGenerator']\n",
    "\n",
    "def HumanSegGenerator(dataset, input_size, batch_size=64,is_train=True):\n",
    "    '''\n",
    "    dataset : total dataset of human segmentation\n",
    "        data는 (384,384,4)로 구성되어 잇는데,\n",
    "        image, profile = data[384,384,:3], data[384,384,-1]\n",
    "\n",
    "        with h5py.File(\"../data/baidu_segmentation.h5\") as file:\n",
    "            dataset = file['384x384'][:]\n",
    "    input_size : 모델에 feeding하기 위한 input size\n",
    "    \n",
    "    is_train : train일 경우, data Augumentation, 아닌 경우 \n",
    "    ''' \n",
    "    if batch_size is None:\n",
    "        # batch_size = None -> Full batch\n",
    "        batch_size = dataset.shape[0]\n",
    "    \n",
    "    counter = 0; batch_image = []; batch_profile = []\n",
    "    while True:\n",
    "        np.random.shuffle(dataset)\n",
    "        for data in dataset:\n",
    "            counter += 1\n",
    "            if is_train:\n",
    "                #train일 경우, data Augumentation PipeLine 거침\n",
    "                data = apply_rotation(data)\n",
    "                data = apply_rescaling(data)\n",
    "                data = apply_flip(data)\n",
    "                data = apply_random_crop(data, input_size)\n",
    "                # give instance Noise for training\n",
    "                data[:,:,:3] = random_noise(data[:,:,:3],\n",
    "                                            mode='gaussian',\n",
    "                                            mean=0,var=0.001)\n",
    "            else:\n",
    "                #test일 경우, data augmentation 하지 않음\n",
    "                data = data / 255. # normalize data\n",
    "                data = cv2.resize(data, input_size)                \n",
    "\n",
    "            # dataset을 image와 profile로 나눔\n",
    "            image, profile = data[:,:,:3], data[:,:,-1]\n",
    "            # adjust the range of value\n",
    "            image = np.clip(image,0.,1.)\n",
    "            profile = (profile>0.7).astype(int)\n",
    "\n",
    "            batch_image.append(image); batch_profile.append(profile)\n",
    "            if counter == batch_size:\n",
    "                yield np.stack(batch_image, axis=0), np.stack(batch_profile, axis=0)\n",
    "                counter = 0; batch_image = []; batch_profile = []\n",
    "\n",
    "# data augumentation pipeline\n",
    "def apply_rotation(image):\n",
    "    rotation_angle = random.randint(-8,8)\n",
    "    return rotate(image, rotation_angle)\n",
    "\n",
    "def apply_rescaling(image):\n",
    "    rescale_ratio = 0.8 + random.random() * 0.4 # from 0.8 to 1.2\n",
    "    return rescale(image, rescale_ratio,mode='reflect')\n",
    "\n",
    "def apply_flip(image):\n",
    "    if random.random()>0.5:\n",
    "        return image[:,::-1,:]\n",
    "    else:\n",
    "        return image\n",
    "\n",
    "def apply_random_crop(image, input_size):\n",
    "    iv = random.randint(0,image.shape[0]-input_size[0])\n",
    "    ih = random.randint(0,image.shape[1]-input_size[1])\n",
    "    return image[iv:iv+input_size[0],ih:ih+input_size[1],:]"
   ]
  },
  {
   "cell_type": "code",
   "execution_count": null,
   "metadata": {},
   "outputs": [],
   "source": [
    "with h5py.File(\"../data/baidu_segmentation.h5\") as file:\n",
    "    dataset = file[\"384x384\"][:]\n",
    "    \n",
    "gen = HumanSegGenerator(dataset, (256, 256))\n",
    "x, y = next(gen)"
   ]
  }
 ],
 "metadata": {
  "kernelspec": {
   "display_name": "Python 3",
   "language": "python",
   "name": "python3"
  },
  "language_info": {
   "codemirror_mode": {
    "name": "ipython",
    "version": 3
   },
   "file_extension": ".py",
   "mimetype": "text/x-python",
   "name": "python",
   "nbconvert_exporter": "python",
   "pygments_lexer": "ipython3",
   "version": "3.6.3"
  }
 },
 "nbformat": 4,
 "nbformat_minor": 2
}
