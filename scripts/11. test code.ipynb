{
 "cells": [
  {
   "cell_type": "code",
   "execution_count": 101,
   "metadata": {},
   "outputs": [],
   "source": [
    "import sys\n",
    "sys.path.append(\"../model/\")\n",
    "import os\n",
    "import unittest"
   ]
  },
  {
   "cell_type": "markdown",
   "metadata": {},
   "source": [
    "## 1. test ops.py"
   ]
  },
  {
   "cell_type": "code",
   "execution_count": 2,
   "metadata": {},
   "outputs": [
    {
     "name": "stderr",
     "output_type": "stream",
     "text": [
      "Using TensorFlow backend.\n",
      "/home/ubuntu/anaconda3/envs/tensorflow_p36/lib/python3.6/site-packages/matplotlib/__init__.py:1067: UserWarning: Duplicate key in file \"/home/ubuntu/.config/matplotlib/matplotlibrc\", line #2\n",
      "  (fname, cnt))\n",
      "/home/ubuntu/anaconda3/envs/tensorflow_p36/lib/python3.6/site-packages/matplotlib/__init__.py:1067: UserWarning: Duplicate key in file \"/home/ubuntu/.config/matplotlib/matplotlibrc\", line #3\n",
      "  (fname, cnt))\n"
     ]
    }
   ],
   "source": [
    "from ops import InstanceNormalization, PermaDropout, conv_bn_activation\n",
    "from keras.models import Model\n",
    "from keras.layers import Input\n",
    "import numpy as np"
   ]
  },
  {
   "cell_type": "code",
   "execution_count": 161,
   "metadata": {},
   "outputs": [
    {
     "data": {
      "text/plain": [
       "True"
      ]
     },
     "execution_count": 161,
     "metadata": {},
     "output_type": "execute_result"
    }
   ],
   "source": [
    "inputs = Input(shape=(1000,))\n",
    "outputs = PermaDropout(0.1)(inputs)\n",
    "model = Model(inputs=inputs,outputs=outputs)\n",
    "\n",
    "test_input = np.expand_dims(np.arange(1000), axis=0)\n",
    "test_output = model.predict_on_batch(test_input)\n",
    "\n",
    "np.sum(test_output == 0) <= 120"
   ]
  },
  {
   "cell_type": "code",
   "execution_count": 98,
   "metadata": {},
   "outputs": [],
   "source": [
    "class TestInstanceNormalization(unittest.TestCase):\n",
    "    def test_predict_norm_output_with_vector_input(self):\n",
    "        '''\n",
    "        input  : [   0,     1,       2,      3,     4,      5,     6,     7,     8  ]\n",
    "        output : [-1.549, -1.161, -0.774, -0.387,   0,  0.387, 0.775, 1.162,   1.549]\n",
    "        '''\n",
    "        # setup Model\n",
    "        inputs = Input(shape=(9,))\n",
    "        outputs = InstanceNormalization()(inputs)\n",
    "        model = Model(inputs=inputs,outputs=outputs)\n",
    "        \n",
    "        test_input = np.expand_dims(np.arange(9), axis=0)\n",
    "        test_answer = (test_input - np.mean(test_input)) / np.std(test_input)\n",
    "        test_output = model.predict_on_batch(test_input)\n",
    "        MSE =  np.sqrt(np.mean(np.square(test_answer - test_output)))\n",
    "        self.assertLessEqual(MSE, 0.001)\n",
    "        \n",
    "    def test_train_norm_output_with_vector_input_no_scale_and_no_center(self):\n",
    "        '''\n",
    "        input  : [   0,     1,       2,      3,     4,      5,     6,     7,     8  ]\n",
    "        output : [-1.549, -1.161, -0.774, -0.387,   0,  0.387, 0.775, 1.162,   1.549]\n",
    "        \n",
    "        scale=False, center=False 하면,\n",
    "        instance Normalization에서 기억하는 값이 없으므로 training하더라도 같은 Loss 값이 계속 나오게 되어야 한다.\n",
    "        '''\n",
    "        inputs = Input(shape=(9,))\n",
    "        outputs = InstanceNormalization(scale=False, center=False)(inputs)\n",
    "        model = Model(inputs=inputs,outputs=outputs)\n",
    "        model.compile('sgd','mae')\n",
    "        \n",
    "        test_input = np.expand_dims(np.arange(9), axis=0)\n",
    "        test_answer = (test_input - np.mean(test_input)) / np.std(test_input)\n",
    "\n",
    "        MAE = model.train_on_batch(test_input,test_answer)\n",
    "        self.assertLessEqual(MAE, 0.0005)\n",
    "        for _ in range(2):\n",
    "            self.assertEqual(MAE, model.train_on_batch(test_input,test_answer))\n",
    "    \n",
    "    def test_predict_norm_output_with_2Dmatrix_input(self):\n",
    "        '''\n",
    "        input : [[0,1,2],\n",
    "                 [3,4,5],\n",
    "                 [6,7,8]]\n",
    "        output : [[-1.549, -1.161, -0.774],\n",
    "                  [-0.387,      0,  0.387],\n",
    "                  [0.775,   1.162,  1.549]]\n",
    "        '''\n",
    "        inputs = Input(shape=(3,3))\n",
    "        outputs = InstanceNormalization()(inputs)\n",
    "        model = Model(inputs=inputs,outputs=outputs)\n",
    "\n",
    "        test_input = np.reshape(np.arange(9),(3,3))\n",
    "        test_input = np.expand_dims(test_input, axis=0)\n",
    "        test_answer = (test_input - test_input.mean()) / test_input.std()\n",
    "        test_output = model.predict_on_batch(test_input)\n",
    "        MSE =  np.sqrt(np.mean(np.square(test_answer - test_output)))\n",
    "        self.assertLessEqual(MSE, 0.001)"
   ]
  },
  {
   "cell_type": "code",
   "execution_count": 99,
   "metadata": {},
   "outputs": [
    {
     "name": "stderr",
     "output_type": "stream",
     "text": [
      "/home/ubuntu/anaconda3/envs/tensorflow_p36/lib/python3.6/site-packages/tensorflow/python/util/tf_inspect.py:45: DeprecationWarning: inspect.getargspec() is deprecated, use inspect.signature() or inspect.getfullargspec()\n",
      "  if d.decorator_argspec is not None), _inspect.getargspec(target))\n",
      "...\n",
      "----------------------------------------------------------------------\n",
      "Ran 3 tests in 0.386s\n",
      "\n",
      "OK\n"
     ]
    }
   ],
   "source": [
    "if __name__ == '__main__':\n",
    "    unittest.main(argv=[''], exit=False)"
   ]
  }
 ],
 "metadata": {
  "kernelspec": {
   "display_name": "Environment (conda_tensorflow_p36)",
   "language": "python",
   "name": "conda_tensorflow_p36"
  },
  "language_info": {
   "codemirror_mode": {
    "name": "ipython",
    "version": 3
   },
   "file_extension": ".py",
   "mimetype": "text/x-python",
   "name": "python",
   "nbconvert_exporter": "python",
   "pygments_lexer": "ipython3",
   "version": "3.6.4"
  }
 },
 "nbformat": 4,
 "nbformat_minor": 2
}
