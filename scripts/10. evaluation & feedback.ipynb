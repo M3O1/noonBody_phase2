{
 "cells": [
  {
   "cell_type": "code",
   "execution_count": 56,
   "metadata": {},
   "outputs": [],
   "source": [
    "%matplotlib inline\n",
    "import os, sys\n",
    "import glob\n",
    "import time\n",
    "from datetime import datetime\n",
    "sys.path.append(\"../model/\")\n",
    "from tqdm import tqdm\n",
    "\n",
    "import numpy as np\n",
    "import pandas as pd\n",
    "import cv2\n",
    "import matplotlib.pyplot as plt\n",
    "\n",
    "import keras.backend as K\n",
    "import keras\n",
    "import tensorflow as tf\n",
    "\n",
    "from keras.models import model_from_json\n",
    "from keras.layers import Lambda\n",
    "from keras.utils import plot_model, generic_utils\n",
    "from keras_tqdm import TQDMNotebookCallback\n",
    "from keras.callbacks import ModelCheckpoint, EarlyStopping\n",
    "from keras.optimizers import Adam\n",
    "\n",
    "from unet import UNET\n",
    "from vgan import VGAN, DISCRIMINATOR, PIC_DISCRIMINATOR\n",
    "\n",
    "from train_utils import PlotCheckpoint, send_report_to_slack, set_directory, mean_iou, plot_sample_image\n",
    "from train_utils import get_disc_batch, np_mean_iou\n",
    "from train_utils import extract_contour, fill_mask, to_uint8\n",
    "\n",
    "from data_utils import load_dataset, HumanSegGenerator\n",
    "from data_utils import clahe_func, gray_func\n",
    "from data_utils import rotation_func, rescaling_func, flip_func, random_crop_func, random_noise_func, gamma_func\n",
    "from data_utils import to_tanh, to_sigmoid\n",
    "\n",
    "from generate_dataset import margin_to_square\n",
    "\n",
    "from ops import *\n",
    "import json"
   ]
  },
  {
   "cell_type": "markdown",
   "metadata": {},
   "source": [
    "### Objective\n",
    "    \n",
    "    1. 트레이닝 데이터셋에서 좋지 못한 데이터셋이 섞여 있는지 확인하고자 함.\n",
    "\n",
    "    현재 가장 우수한 Generator의 모델로 Segmentation을 해보았을 때, human-profile과의 차이가 가장 큰 경우들을 찾아서 배제하고자 함.\n",
    "    \n",
    "    2. 크롤링한 데이터 중 아직 누끼를 따지 못한 데이터에 적용해보기\n",
    "    \n",
    "    누끼를 따지 못한 데이터에 적용하였을 때 잘 된 것들은 데이터셋에 넣고 잘 되지 못한 것들의 유형을 파악해보기.\n",
    "    현재 어떤 형태의 데이터를 잘 학습하지 못하는지를 확인하기 위함\n",
    "   "
   ]
  },
  {
   "cell_type": "code",
   "execution_count": 3,
   "metadata": {},
   "outputs": [],
   "source": [
    "def get_batch_images(batch_paths, size=(256,256)):\n",
    "    batch_images = []\n",
    "    for image_path in batch_paths:\n",
    "        image = cv2.imread(image_path)\n",
    "        image = cv2.cvtColor(image, cv2.COLOR_BGR2RGB)\n",
    "        image = margin_to_square(image)\n",
    "        image = cv2.resize(image, size)\n",
    "        image = to_tanh(image)\n",
    "        batch_images.append(image)\n",
    "    return np.stack(batch_images)\n",
    "\n",
    "def get_batch_profiles(batch_paths):\n",
    "    batch_images = []\n",
    "    for image_path in batch_paths:\n",
    "        image = cv2.imread(image_path,0)\n",
    "        image = ~image\n",
    "        image = cv2.cvtColor(image, cv2.COLOR_GRAY2BGR)\n",
    "        image = margin_to_square(image)\n",
    "        image = cv2.cvtColor(image, cv2.COLOR_BGR2GRAY)\n",
    "        image = cv2.resize(image, (256,256))\n",
    "        image = to_tanh(image)\n",
    "        batch_images.append(image)\n",
    "    return np.stack(batch_images)\n",
    "\n",
    "def np_mean_iou(y_pred, y_true, thr=0):\n",
    "    y_pred = (y_pred>thr).astype(np.int)\n",
    "    y_true = (y_true>thr).astype(np.int)\n",
    "\n",
    "    intersect = y_pred * y_true\n",
    "    union = np.ones_like(y_pred) - ((1-y_pred) * (1-y_true))\n",
    "    return np.sum(np.sum(intersect,axis=1),axis=1)\\\n",
    "        / np.sum(np.sum(union,axis=1),axis=1)\n",
    "\n",
    "def load_model(model_path, weight_path):\n",
    "    with open(model_path, 'r') as file:\n",
    "        model = model_from_json(file.read())\n",
    "    model.load_weights(weight_path)\n",
    "    return model\n",
    "\n",
    "def fill_mask(image, profile,line=[1,1,1],fg=[1,0,0]):\n",
    "    mask = np.expand_dims(profile,axis=-1) * np.array(line,dtype=np.uint8)\n",
    "    contour = extract_contour(profile)\n",
    "    contour = np.expand_dims(contour,axis=-1) * np.array(fg,dtype=np.uint8)\n",
    "    result = cv2.addWeighted(image,0.5,mask,0.5,1.)\n",
    "    return cv2.add(result,contour)"
   ]
  },
  {
   "cell_type": "code",
   "execution_count": 4,
   "metadata": {},
   "outputs": [],
   "source": [
    "gen_model_path = \"../results/gan/0701_05/model-arch/generator.json\"\n",
    "gen_weight_path = \"../results/gan/0701_05/weights/0.909_gen.h5\"\n",
    "\n",
    "disc_model_path = \"../results/gan/0701_05/model-arch/discriminator.json\"\n",
    "disc_weight_path = \"../results/gan/0701_05/weights/0.909_disc.h5\"\n",
    "\n",
    "csv_path = \"../data/remove_bad_seg_df.csv\""
   ]
  },
  {
   "cell_type": "code",
   "execution_count": 5,
   "metadata": {},
   "outputs": [],
   "source": [
    "df = pd.read_csv(csv_path)\n",
    "df['IOU'] = 0.\n",
    "df['human_disc_output'] = 0.\n",
    "df['machine_disc_output'] = 0.\n",
    "\n",
    "target_df = df[df.seg_ok]"
   ]
  },
  {
   "cell_type": "code",
   "execution_count": 7,
   "metadata": {},
   "outputs": [],
   "source": [
    "generator = load_model(gen_model_path, gen_weight_path)\n",
    "discriminator = load_model(disc_model_path, disc_weight_path)"
   ]
  },
  {
   "cell_type": "markdown",
   "metadata": {},
   "source": [
    "#### 생성 모델의 성능 평가 - IOU\n",
    "\n",
    "    IOU는 Human Seg와 Machine Seg의 직접적인 결과차이\n",
    "    \n",
    "    discriminator는 기계와 인간의 차이를 구분하는 분류기로\n",
    "    discriminator의 값이 크면 클수록 기계에 가깝게 되었다고 판별함\n",
    "    \n",
    "    "
   ]
  },
  {
   "cell_type": "code",
   "execution_count": 21,
   "metadata": {},
   "outputs": [
    {
     "name": "stderr",
     "output_type": "stream",
     "text": [
      "\n",
      "  0%|          | 0/477 [00:00<?, ?it/s]\u001b[A/home/ubuntu/anaconda3/envs/tensorflow_p36/lib/python3.6/site-packages/pandas/core/indexing.py:194: SettingWithCopyWarning: \n",
      "A value is trying to be set on a copy of a slice from a DataFrame\n",
      "\n",
      "See the caveats in the documentation: http://pandas.pydata.org/pandas-docs/stable/indexing.html#indexing-view-versus-copy\n",
      "  self._setitem_with_indexer(indexer, value)\n",
      "/home/ubuntu/anaconda3/envs/tensorflow_p36/lib/python3.6/site-packages/ipykernel/__main__.py:11: SettingWithCopyWarning: \n",
      "A value is trying to be set on a copy of a slice from a DataFrame\n",
      "\n",
      "See the caveats in the documentation: http://pandas.pydata.org/pandas-docs/stable/indexing.html#indexing-view-versus-copy\n",
      "/home/ubuntu/anaconda3/envs/tensorflow_p36/lib/python3.6/site-packages/ipykernel/__main__.py:16: SettingWithCopyWarning: \n",
      "A value is trying to be set on a copy of a slice from a DataFrame\n",
      "\n",
      "See the caveats in the documentation: http://pandas.pydata.org/pandas-docs/stable/indexing.html#indexing-view-versus-copy\n",
      "/home/ubuntu/anaconda3/envs/tensorflow_p36/lib/python3.6/site-packages/ipykernel/__main__.py:17: SettingWithCopyWarning: \n",
      "A value is trying to be set on a copy of a slice from a DataFrame\n",
      "\n",
      "See the caveats in the documentation: http://pandas.pydata.org/pandas-docs/stable/indexing.html#indexing-view-versus-copy\n",
      "\n",
      "  0%|          | 1/477 [00:01<13:08,  1.66s/it]\u001b[A\n",
      "  0%|          | 2/477 [00:03<13:11,  1.67s/it]\u001b[A\n",
      "  1%|          | 3/477 [00:05<13:32,  1.71s/it]\u001b[A\n",
      "  1%|          | 4/477 [00:06<13:20,  1.69s/it]\u001b[A\n",
      "100%|██████████| 477/477 [12:53<00:00,  1.62s/it]\n"
     ]
    }
   ],
   "source": [
    "for i in tqdm(range(target_df.shape[0]//4+1)):\n",
    "    filenames = target_df.filename[4*i:4*(i+1)].values\n",
    "\n",
    "    batch_image_paths = [os.path.join(\"../../data/images/\",filename) for filename in filenames]\n",
    "    batch_profile_paths = [os.path.join(\"../../data/profiles/\",filename) for filename in filenames]\n",
    "\n",
    "    images = get_batch_images(batch_image_paths)\n",
    "    profiles = get_batch_profiles(batch_profile_paths)\n",
    "    gen_profiles = generator.predict_on_batch(images)\n",
    "    \n",
    "    target_df['IOU'].iloc[4*i:4*(i+1)] = np_mean_iou(np.squeeze(gen_profiles),profiles)\n",
    "    \n",
    "    disc_input = np.concatenate([images, np.expand_dims(profiles,axis=-1)],axis=-1)\n",
    "    disc_input2 = np.concatenate([images, gen_profiles],axis=-1)\n",
    "    \n",
    "    target_df['human_disc_output'].iloc[4*i:4*(i+1)] = discriminator.predict_on_batch(disc_input)[:,0]\n",
    "    target_df['machine_disc_output'].iloc[4*i:4*(i+1)] = discriminator.predict_on_batch(disc_input2)[:,0]"
   ]
  },
  {
   "cell_type": "code",
   "execution_count": null,
   "metadata": {},
   "outputs": [],
   "source": [
    "for filename in target_df[target_df.IOU < 0.95].filename"
   ]
  },
  {
   "cell_type": "markdown",
   "metadata": {},
   "source": [
    "### 이것을 보면 알겠지만, 판별기는 잘 구별하지 못하고 있다. (매우 잘 학습되었다고 볼 수 있음)"
   ]
  },
  {
   "cell_type": "code",
   "execution_count": 31,
   "metadata": {},
   "outputs": [
    {
     "data": {
      "text/plain": [
       "<matplotlib.axes._subplots.AxesSubplot at 0x7fa2542bea20>"
      ]
     },
     "execution_count": 31,
     "metadata": {},
     "output_type": "execute_result"
    },
    {
     "data": {
      "image/png": "[encoded data removed]",
      "text/plain": [
       "<Figure size 432x288 with 1 Axes>"
      ]
     },
     "metadata": {},
     "output_type": "display_data"
    }
   ],
   "source": [
    "(target_df.machine_disc_output - target_df.human_disc_output).hist()"
   ]
  },
  {
   "cell_type": "markdown",
   "metadata": {},
   "source": [
    "### 잘 구별 못하지만, IOU가 매우 다른 것들이 존재한다. 왜 그러는지를 분석해 볼 필요가 있다."
   ]
  },
  {
   "cell_type": "code",
   "execution_count": 38,
   "metadata": {},
   "outputs": [],
   "source": [
    "eval_dir = \"../results/gan/0701_05/evaluation\"\n",
    "\n",
    "os.makedirs(eval_dir,exist_ok=True)\n",
    "target_df.to_csv(os.path.join(eval_dir,\"baidu_evaluation.csv\"))"
   ]
  },
  {
   "cell_type": "code",
   "execution_count": 39,
   "metadata": {},
   "outputs": [],
   "source": [
    "def draw_sample_image(images, profiles):\n",
    "    images = np.stack([to_uint8(image) for image in np.squeeze(images)])\n",
    "    profiles = np.stack([to_uint8(image) for image in np.squeeze(profiles)])\n",
    "    samples = []\n",
    "    for image, profile in zip(images, profiles):\n",
    "        if len(image.shape) == 2:\n",
    "            image = cv2.cvtColor(image, cv2.COLOR_GRAY2RGB)\n",
    "        result = fill_mask(image, profile)\n",
    "        samples.append(np.concatenate((image,result),axis=1))\n",
    "    samples = np.concatenate(samples,axis=0)\n",
    "    return samples"
   ]
  },
  {
   "cell_type": "code",
   "execution_count": 46,
   "metadata": {},
   "outputs": [],
   "source": [
    "save_df = target_df[target_df.IOU < 0.95]"
   ]
  },
  {
   "cell_type": "code",
   "execution_count": 48,
   "metadata": {},
   "outputs": [
    {
     "name": "stderr",
     "output_type": "stream",
     "text": [
      "100%|█████████▉| 250/251 [01:58<00:00,  2.11it/s]"
     ]
    },
    {
     "ename": "ValueError",
     "evalue": "need at least one array to stack",
     "output_type": "error",
     "traceback": [
      "\u001b[0;31m---------------------------------------------------------------------------\u001b[0m",
      "\u001b[0;31mValueError\u001b[0m                                Traceback (most recent call last)",
      "\u001b[0;32m<ipython-input-48-dc5423281a72>\u001b[0m in \u001b[0;36m<module>\u001b[0;34m()\u001b[0m\n\u001b[1;32m      5\u001b[0m     \u001b[0mbatch_profile_paths\u001b[0m \u001b[0;34m=\u001b[0m \u001b[0mget_batch_paths\u001b[0m\u001b[0;34m(\u001b[0m\u001b[0mfilenames\u001b[0m\u001b[0;34m)\u001b[0m\u001b[0;34m\u001b[0m\u001b[0m\n\u001b[1;32m      6\u001b[0m \u001b[0;34m\u001b[0m\u001b[0m\n\u001b[0;32m----> 7\u001b[0;31m     \u001b[0mimages\u001b[0m \u001b[0;34m=\u001b[0m \u001b[0mget_batch_images\u001b[0m\u001b[0;34m(\u001b[0m\u001b[0mbatch_image_paths\u001b[0m\u001b[0;34m)\u001b[0m\u001b[0;34m\u001b[0m\u001b[0m\n\u001b[0m\u001b[1;32m      8\u001b[0m     \u001b[0mprofiles\u001b[0m \u001b[0;34m=\u001b[0m \u001b[0mget_batch_profiles\u001b[0m\u001b[0;34m(\u001b[0m\u001b[0mbatch_profile_paths\u001b[0m\u001b[0;34m)\u001b[0m\u001b[0;34m\u001b[0m\u001b[0m\n\u001b[1;32m      9\u001b[0m     \u001b[0mgen_profiles\u001b[0m \u001b[0;34m=\u001b[0m \u001b[0mgenerator\u001b[0m\u001b[0;34m.\u001b[0m\u001b[0mpredict_on_batch\u001b[0m\u001b[0;34m(\u001b[0m\u001b[0mimages\u001b[0m\u001b[0;34m)\u001b[0m\u001b[0;34m\u001b[0m\u001b[0m\n",
      "\u001b[0;32m<ipython-input-3-46eb0113afbb>\u001b[0m in \u001b[0;36mget_batch_images\u001b[0;34m(batch_paths, size)\u001b[0m\n\u001b[1;32m      8\u001b[0m         \u001b[0mimage\u001b[0m \u001b[0;34m=\u001b[0m \u001b[0mto_tanh\u001b[0m\u001b[0;34m(\u001b[0m\u001b[0mimage\u001b[0m\u001b[0;34m)\u001b[0m\u001b[0;34m\u001b[0m\u001b[0m\n\u001b[1;32m      9\u001b[0m         \u001b[0mbatch_images\u001b[0m\u001b[0;34m.\u001b[0m\u001b[0mappend\u001b[0m\u001b[0;34m(\u001b[0m\u001b[0mimage\u001b[0m\u001b[0;34m)\u001b[0m\u001b[0;34m\u001b[0m\u001b[0m\n\u001b[0;32m---> 10\u001b[0;31m     \u001b[0;32mreturn\u001b[0m \u001b[0mnp\u001b[0m\u001b[0;34m.\u001b[0m\u001b[0mstack\u001b[0m\u001b[0;34m(\u001b[0m\u001b[0mbatch_images\u001b[0m\u001b[0;34m)\u001b[0m\u001b[0;34m\u001b[0m\u001b[0m\n\u001b[0m\u001b[1;32m     11\u001b[0m \u001b[0;34m\u001b[0m\u001b[0m\n\u001b[1;32m     12\u001b[0m \u001b[0;32mdef\u001b[0m \u001b[0mget_batch_profiles\u001b[0m\u001b[0;34m(\u001b[0m\u001b[0mbatch_paths\u001b[0m\u001b[0;34m)\u001b[0m\u001b[0;34m:\u001b[0m\u001b[0;34m\u001b[0m\u001b[0m\n",
      "\u001b[0;32m~/anaconda3/envs/tensorflow_p36/lib/python3.6/site-packages/numpy/core/shape_base.py\u001b[0m in \u001b[0;36mstack\u001b[0;34m(arrays, axis)\u001b[0m\n\u001b[1;32m    348\u001b[0m     \u001b[0marrays\u001b[0m \u001b[0;34m=\u001b[0m \u001b[0;34m[\u001b[0m\u001b[0masanyarray\u001b[0m\u001b[0;34m(\u001b[0m\u001b[0marr\u001b[0m\u001b[0;34m)\u001b[0m \u001b[0;32mfor\u001b[0m \u001b[0marr\u001b[0m \u001b[0;32min\u001b[0m \u001b[0marrays\u001b[0m\u001b[0;34m]\u001b[0m\u001b[0;34m\u001b[0m\u001b[0m\n\u001b[1;32m    349\u001b[0m     \u001b[0;32mif\u001b[0m \u001b[0;32mnot\u001b[0m \u001b[0marrays\u001b[0m\u001b[0;34m:\u001b[0m\u001b[0;34m\u001b[0m\u001b[0m\n\u001b[0;32m--> 350\u001b[0;31m         \u001b[0;32mraise\u001b[0m \u001b[0mValueError\u001b[0m\u001b[0;34m(\u001b[0m\u001b[0;34m'need at least one array to stack'\u001b[0m\u001b[0;34m)\u001b[0m\u001b[0;34m\u001b[0m\u001b[0m\n\u001b[0m\u001b[1;32m    351\u001b[0m \u001b[0;34m\u001b[0m\u001b[0m\n\u001b[1;32m    352\u001b[0m     \u001b[0mshapes\u001b[0m \u001b[0;34m=\u001b[0m \u001b[0mset\u001b[0m\u001b[0;34m(\u001b[0m\u001b[0marr\u001b[0m\u001b[0;34m.\u001b[0m\u001b[0mshape\u001b[0m \u001b[0;32mfor\u001b[0m \u001b[0marr\u001b[0m \u001b[0;32min\u001b[0m \u001b[0marrays\u001b[0m\u001b[0;34m)\u001b[0m\u001b[0;34m\u001b[0m\u001b[0m\n",
      "\u001b[0;31mValueError\u001b[0m: need at least one array to stack"
     ]
    }
   ],
   "source": [
    "for i in tqdm(range(save_df.shape[0]//4+1)):\n",
    "    filenames = save_df.filename[4*i:4*(i+1)].values\n",
    "\n",
    "    batch_image_paths = get_image_paths(filenames)\n",
    "    batch_profile_paths = get_batch_paths(filenames)\n",
    "\n",
    "    images = get_batch_images(batch_image_paths)\n",
    "    profiles = get_batch_profiles(batch_profile_paths)\n",
    "    gen_profiles = generator.predict_on_batch(images)\n",
    "    \n",
    "    for j in range(len(filenames)):\n",
    "        save_path = os.path.join(eval_dir, filenames[j])\n",
    "        image = to_uint8(images[j])\n",
    "        human_contour = to_uint8(fill_mask(images[j],profiles[j],[1,0,0],[1,0,0]))\n",
    "        machine_contour = to_uint8(fill_mask(images[j],np.squeeze(gen_profiles[j]),[0,1,0],[0,1,0]))\n",
    "        merged = cv2.addWeighted(human_contour,0.5,machine_contour,0.5,1.3)\n",
    "        result = np.concatenate([image,human_contour,machine_contour,merged],axis=1)\n",
    "        result = cv2.cvtColor(result, cv2.COLOR_RGB2BGR)\n",
    "        cv2.imwrite(save_path,result)"
   ]
  },
  {
   "cell_type": "code",
   "execution_count": null,
   "metadata": {},
   "outputs": [],
   "source": [
    "eval_dir = \"../../data/evaluation/all/\"\n",
    "os.makedirs(eval_dir, exist_ok=True)"
   ]
  },
  {
   "cell_type": "code",
   "execution_count": null,
   "metadata": {},
   "outputs": [],
   "source": [
    "for i in tqdm(range(df.shape[0]//4+1)):\n",
    "    filenames = df.filename[4*i:4*(i+1)].values\n",
    "\n",
    "    batch_image_paths = get_image_paths(filenames)\n",
    "    batch_profile_paths = get_batch_paths(filenames)\n",
    "\n",
    "    images = get_batch_images(batch_image_paths)\n",
    "    profiles = get_batch_profiles(batch_profile_paths)\n",
    "    gen_profiles = generator.predict_on_batch(images)\n",
    "    \n",
    "    for j in range(len(filenames)):\n",
    "        save_path = os.path.join(eval_dir, filenames[j])\n",
    "        image = to_uint8(images[j])\n",
    "        human_contour = to_uint8(fill_mask(images[j],profiles[j],[1,0,0],[1,0,0]))\n",
    "        machine_contour = to_uint8(fill_mask(images[j],np.squeeze(gen_profiles[j]),[0,1,0],[0,1,0]))\n",
    "        merged = cv2.addWeighted(human_contour,0.5,machine_contour,0.5,1.3)\n",
    "        result = np.concatenate([image,human_contour,machine_contour,merged],axis=1)\n",
    "        result = cv2.cvtColor(result, cv2.COLOR_RGB2BGR)\n",
    "        cv2.imwrite(save_path,result)"
   ]
  },
  {
   "cell_type": "code",
   "execution_count": 49,
   "metadata": {},
   "outputs": [],
   "source": [
    "df = pd.read_csv(\"../results/gan/0701_05/model-arch/training.csv\")"
   ]
  },
  {
   "cell_type": "code",
   "execution_count": 53,
   "metadata": {},
   "outputs": [
    {
     "data": {
      "text/plain": [
       "<matplotlib.axes._subplots.AxesSubplot at 0x7fa207fd65f8>"
      ]
     },
     "execution_count": 53,
     "metadata": {},
     "output_type": "execute_result"
    },
    {
     "data": {
      "image/png": "[encoded data removed]",
      "text/plain": [
       "<Figure size 432x288 with 1 Axes>"
      ]
     },
     "metadata": {},
     "output_type": "display_data"
    }
   ],
   "source": [
    "df['train D logloss'].plot()"
   ]
  },
  {
   "cell_type": "code",
   "execution_count": 52,
   "metadata": {},
   "outputs": [
    {
     "data": {
      "text/plain": [
       "<matplotlib.axes._subplots.AxesSubplot at 0x7fa20796fba8>"
      ]
     },
     "execution_count": 52,
     "metadata": {},
     "output_type": "execute_result"
    },
    {
     "data": {
      "image/png": "[encoded data removed]",
      "text/plain": [
       "<Figure size 432x288 with 1 Axes>"
      ]
     },
     "metadata": {},
     "output_type": "display_data"
    }
   ],
   "source": [
    "df['train G logloss'].plot()"
   ]
  }
 ],
 "metadata": {
  "kernelspec": {
   "display_name": "Environment (conda_tensorflow_p36)",
   "language": "python",
   "name": "conda_tensorflow_p36"
  },
  "language_info": {
   "codemirror_mode": {
    "name": "ipython",
    "version": 3
   },
   "file_extension": ".py",
   "mimetype": "text/x-python",
   "name": "python",
   "nbconvert_exporter": "python",
   "pygments_lexer": "ipython3",
   "version": "3.6.4"
  }
 },
 "nbformat": 4,
 "nbformat_minor": 2
}
